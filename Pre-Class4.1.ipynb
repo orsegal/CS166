{
 "cells": [
  {
   "cell_type": "markdown",
   "metadata": {},
   "source": [
    "# Pre-Class 4.1"
   ]
  },
  {
   "cell_type": "code",
   "execution_count": 1,
   "metadata": {
    "collapsed": false
   },
   "outputs": [],
   "source": [
    "import matplotlib\n",
    "import pylab\n",
    "import random\n",
    "import numpy as np"
   ]
  },
  {
   "cell_type": "code",
   "execution_count": 96,
   "metadata": {
    "collapsed": false
   },
   "outputs": [],
   "source": [
    "class TrafficSimulator(object):\n",
    "    \n",
    "    def __init__(self, length=50, density=0.2, vMax=5, slowProb=0.5):\n",
    "        '''\n",
    "        Initialize new TrafficSimulator objects with the default parameter\n",
    "        settings.\n",
    "\n",
    "        Inputs:\n",
    "\n",
    "         * length (int): The number of cells in the cellular automaton.\n",
    "           Default: 50.\n",
    "\n",
    "         * density (float): The proportion of cells that will be active (contain\n",
    "           a car) when the cellular automaton is initialized. The active cells\n",
    "           will be at random locations along the length of the CA. Default: 0.2.\n",
    "\n",
    "        '''\n",
    "        self.length = length\n",
    "        self.density = density\n",
    "        self.vMax = vMax\n",
    "        self.slowProb = slowProb\n",
    "\n",
    "        # Arrays for storing the current state and the next state (when we are\n",
    "        # busy doing a state update).\n",
    "        self.current_state = np.ones(self.length) * -1\n",
    "        self.next_state = np.ones(self.length) * -1\n",
    "\n",
    "    def initialize(self):\n",
    "        '''\n",
    "        This will be called by the interactive pycxsimulator whenever the Reset\n",
    "        button is clicked.\n",
    "        '''\n",
    "        # Set up a random initial state where the fraction of 0s in the array\n",
    "        # equals the density parameter.\n",
    "        random_indices = np.random.choice(\n",
    "            range(self.length),\n",
    "            size=int(round(self.density * self.length)),\n",
    "            replace=False)\n",
    "        self.current_state.fill(-1)\n",
    "        self.current_state[random_indices] = 0\n",
    "        \n",
    "        # Set the velocities to the max possible (i.e, distant - 1 or max velocity)\n",
    "        for i in range(self.length):\n",
    "            if self.current_state[i] != -1:\n",
    "                for j in range(1, self.vMax+1):\n",
    "                    if self.current_state[(i+j)%self.length] != -1:\n",
    "                        dist = j\n",
    "                        break\n",
    "                    dist = self.vMax+1\n",
    "                self.current_state[i] = dist-1\n",
    "\n",
    "        self.time = 0\n",
    "        \n",
    "    def draw(self):\n",
    "        '''\n",
    "        Draw the current state of the cellular automaton.\n",
    "        '''\n",
    "#         if self.interactive:\n",
    "#             pylab.cla()  # Clear the current figure\n",
    "#         else:\n",
    "#             pylab.figure()  # Create a new figure\n",
    "#         pylab.pcolor(\n",
    "#             self.current_state.reshape((1, self.length)),\n",
    "#             vmin = 0,\n",
    "#             vmax = 1,\n",
    "#             cmap = pylab.cm.binary)\n",
    "#         pylab.axis('image')\n",
    "#         pylab.title('density = ' + str(self.density) + '; t = ' + str(self.time))\n",
    "#         if not self.interactive:\n",
    "#             pylab.show()\n",
    "        print(''.join('.' if x == -1 else str(int(x)) for x in self.current_state[:70]))\n",
    "\n",
    "    def update_velocities(self):\n",
    "        '''\n",
    "        Update all velocities according to rules 1-3\n",
    "        '''\n",
    "        for i in range(self.length):\n",
    "            if self.current_state[i] != -1:\n",
    "                # Calculate the distance to next car (if distance is long, set as vMax+1)\n",
    "                for j in range(1, self.vMax+1):\n",
    "                    if self.current_state[(i+j)%self.length] != -1:\n",
    "                        dist = j\n",
    "                        break\n",
    "                    dist = self.vMax+1\n",
    "                # Rule 1: acceleration\n",
    "                if (self.current_state[i] < self.vMax) and (dist > self.current_state[i]+1):\n",
    "                    self.current_state[i] += 1\n",
    "                # Rule 2: slowing down\n",
    "                if self.current_state[i] >= dist:\n",
    "                    self.current_state[i] = dist-1\n",
    "                # Rule 3: randomization\n",
    "                if self.current_state[i] != 0:\n",
    "                    if random.random() < self.slowProb:\n",
    "                        self.current_state[i] -= 1\n",
    "        \n",
    "    def step(self):\n",
    "        '''\n",
    "        Update the positions based on updated velocities\n",
    "        '''\n",
    "        # Update the new positions (rule 4)\n",
    "        self.next_state = np.ones(self.length) * -1\n",
    "        for i in range(self.length):\n",
    "            if self.current_state[i] != -1:\n",
    "                self.next_state[int((i + self.current_state[i])%self.length)] = self.current_state[i]\n",
    "        \n",
    "        # Swap next state and current state\n",
    "        self.current_state, self.next_state = self.next_state, self.current_state\n",
    "        self.time += 1\n",
    "\n"
   ]
  },
  {
   "cell_type": "markdown",
   "metadata": {},
   "source": [
    "## Nagel & Schreckenberg - figure 1"
   ]
  },
  {
   "cell_type": "code",
   "execution_count": 98,
   "metadata": {},
   "outputs": [
    {
     "name": "stdout",
     "output_type": "stream",
     "text": [
      "....5.................................5...............4...............\n",
      ".........5.................................4..............5...........\n",
      "..............4................................4...............5......\n",
      "..................5................................4................5.\n",
      ".......................5...............................4..............\n",
      "............................5..............................4..........\n",
      ".................................4.............................5......\n",
      ".....................................5..............................5.\n",
      "..........................................5...........................\n",
      "...............................................4......................\n",
      ".5.................................................5..................\n",
      "......4.................................................5.............\n",
      "..........5..................................................4........\n",
      "...............5.................................................5....\n",
      "....................5.................................................\n",
      "..4......................5............................................\n",
      "......5.......................4.......................................\n",
      "...........4......................5...................................\n",
      "...............5.......................5..............................\n",
      "....................4.......................4.........................\n"
     ]
    }
   ],
   "source": [
    "sim = TrafficSimulator(length=100, density=0.03, vMax=5, slowProb=0.5)\n",
    "sim.initialize()\n",
    "sim.current_state\n",
    "# sim.draw()\n",
    "for i in range(20):\n",
    "    sim.update_velocities()\n",
    "    sim.draw()\n",
    "    sim.step()"
   ]
  },
  {
   "cell_type": "markdown",
   "metadata": {},
   "source": [
    "## Nagel & Schreckenberg - figure 2"
   ]
  },
  {
   "cell_type": "code",
   "execution_count": 109,
   "metadata": {
    "collapsed": false
   },
   "outputs": [
    {
     "name": "stdout",
     "output_type": "stream",
     "text": [
      "..4............5.....4.....05......................1.0.4......5.......\n",
      "......5.............4....0.0.....5..................01.....5.......4..\n",
      "...........5............00.0..........4.............1.2.........5.....\n",
      "................5.......00.0..............5..........2..3............4\n",
      ".....................2..00.1...................4.......3...4..........\n",
      "....5..................001..2......................4......3....5......\n",
      ".........4.............00.1...2........................4.....4......5.\n",
      ".............5.........01..2....3..........................4.....5....\n",
      "5.................3....1.1...2.....3...........................4......\n",
      ".....4...............2..1.2....3......3............................5..\n",
      ".5.......5.............1.2..3.....3......4............................\n",
      "......5.......4.........1..3...3.....4.......5........................\n",
      "...........4......4......1....2...3......5........5...................\n",
      "5..............5......2...1.....3....4........5........4..............\n",
      ".....5..............3...2..2.......4.....5.........5.......4..........\n",
      "..........4............2..2..2.........5......4.........5......5......\n",
      "...4..........4..........1..2..3............4.....5..........4......4.\n",
      "4......5..........5.......2...2...3.............5......4.........4....\n",
      "....4.......4..........4....2...3....4...............5.....5.........4\n",
      "........5.......5..........2..2....3.....5................5.....4.....\n",
      ".............4.......5.......2..3.....4.......5................4....5.\n",
      ".................4........4....2...4......5........4...............5..\n",
      ".....................4........2..2.....4.......4.......5..............\n",
      ".........................4......2..3.......4.......5........4.........\n",
      "...4.........................3....2...3........5........5.......5.....\n",
      ".......5........................3...3....3..........4........4.......4\n",
      "..5.........5......................2...3....4...........4........4....\n",
      ".5.....4.........5...................3....4.....4...........5........4\n",
      "......3....5..........4.................3.....4.....4............5....\n",
      "5........4......5.........5................3......4.....5.............\n"
     ]
    }
   ],
   "source": [
    "sim = TrafficSimulator(length=100, density=0.1, vMax=5, slowProb=0.5)\n",
    "sim.initialize()\n",
    "sim.current_state\n",
    "# sim.draw()\n",
    "for i in range(30):\n",
    "    sim.update_velocities()\n",
    "    sim.draw()\n",
    "    sim.step()"
   ]
  },
  {
   "cell_type": "code",
   "execution_count": null,
   "metadata": {
    "collapsed": false
   },
   "outputs": [],
   "source": []
  }
 ],
 "metadata": {
  "kernelspec": {
   "display_name": "Python 3",
   "language": "python",
   "name": "python3"
  },
  "language_info": {
   "codemirror_mode": {
    "name": "ipython",
    "version": 3
   },
   "file_extension": ".py",
   "mimetype": "text/x-python",
   "name": "python",
   "nbconvert_exporter": "python",
   "pygments_lexer": "ipython3",
   "version": "3.6.4"
  }
 },
 "nbformat": 4,
 "nbformat_minor": 2
}
