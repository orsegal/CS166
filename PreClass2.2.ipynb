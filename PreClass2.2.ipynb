{
 "cells": [
  {
   "cell_type": "markdown",
   "metadata": {},
   "source": [
    "# Session 2.2 - Pre Class\n",
    "\n",
    "## Exercise 11.3"
   ]
  },
  {
   "cell_type": "code",
   "execution_count": 30,
   "metadata": {},
   "outputs": [],
   "source": [
    "import matplotlib\n",
    "# matplotlib.use('TkAgg')\n",
    "import pylab\n",
    "import numpy as np\n",
    "\n",
    "n = 100 # size of space: n x n\n",
    "p = 0.1 # probability of initially panicky individuals\n",
    "\n",
    "def initialize():\n",
    "    global config, nextconfig\n",
    "    config = pylab.zeros([n, n])\n",
    "    for x in range(n):\n",
    "        for y in range(n):\n",
    "            config[x, y] = 1 if pylab.random() < p else 0\n",
    "    nextconfig = pylab.zeros([n, n])\n",
    "    \n",
    "def observe():\n",
    "    global config, nextconfig\n",
    "    pylab.cla()\n",
    "    pylab.imshow(config, vmin = 0, vmax = 1, cmap = cm.binary)\n",
    "\n",
    "def update():\n",
    "    global config, nextconfig\n",
    "    for x in range(n):\n",
    "        for y in range(n):\n",
    "            count = 0\n",
    "            for dx in [-1, 0, 1]:\n",
    "                for dy in [-1, 0, 1]:\n",
    "                    count += config[(x + dx) % n, (y + dy) % n]\n",
    "            if config[x, y] == 0:\n",
    "                nextconfig[x, y] = 1 if count == 3 else 0\n",
    "            else: \n",
    "                nextconfig[x, y] = 1 if (count == 3 or count == 2) else 0\n",
    "    config, nextconfig = nextconfig, config\n",
    "    density = 0\n",
    "    for dim in nextconfig:\n",
    "        density += sum(dim)\n",
    "    return density\n",
    "\n",
    "# import pycxsimulator\n",
    "# pycxsimulator.GUI().start(func=[initialize, observe, update])\n",
    "\n",
    "T = 50\n",
    "density_list = []\n",
    "initialize()\n",
    "for i in range(T):\n",
    "    density_list.append(update())"
   ]
  },
  {
   "cell_type": "code",
   "execution_count": 33,
   "metadata": {},
   "outputs": [
    {
     "data": {
      "image/png": "[encoded data removed]",
      "text/plain": [
       "<matplotlib.figure.Figure at 0x117f7ce80>"
      ]
     },
     "metadata": {},
     "output_type": "display_data"
    }
   ],
   "source": [
    "plt.figure(figsize=(14, 4))\n",
    "plt.subplot(1,2,1) \n",
    "observe()\n",
    "plt.title(\"GOL - state after {t} time steps\".format(t=T))\n",
    "\n",
    "plt.subplot(1,2,2) \n",
    "\n",
    "plt.plot(range(T), density_list)\n",
    "plt.title(\"GOL - density over {t} time steps\".format(t=T))\n",
    "plt.xlabel(\"Time Steps\")\n",
    "plt.ylabel(\"Density\")\n",
    "plt.show()"
   ]
  },
  {
   "cell_type": "markdown",
   "metadata": {},
   "source": [
    "## Exercise 11.5"
   ]
  },
  {
   "cell_type": "code",
   "execution_count": 41,
   "metadata": {},
   "outputs": [],
   "source": [
    "n = 100 # size of space: n x n\n",
    "# p = 0.1 # probability of initially panicky individuals\n",
    "\n",
    "def initialize(p = 0.1):\n",
    "    global config, nextconfig\n",
    "    config = pylab.zeros([n, n])\n",
    "    for x in range(n):\n",
    "        for y in range(n):\n",
    "            config[x, y] = 1 if pylab.random() < p else 0\n",
    "    nextconfig = pylab.zeros([n, n])\n",
    "    \n",
    "def observe():\n",
    "    global config, nextconfig\n",
    "    pylab.cla()\n",
    "    pylab.imshow(config, vmin = 0, vmax = 1, cmap = cm.binary)\n",
    "\n",
    "def update():\n",
    "    global config, nextconfig\n",
    "    for x in range(n):\n",
    "        for y in range(n):\n",
    "            count = 0\n",
    "            for dx in [-1, 0, 1]:\n",
    "                for dy in [-1, 0, 1]:\n",
    "                    count += config[(x + dx) % n, (y + dy) % n]\n",
    "            nextconfig[x, y] = 1 if count >= 4 else 0\n",
    "    config, nextconfig = nextconfig, config\n",
    "    density = 0\n",
    "    for dim in nextconfig:\n",
    "        density += sum(dim)\n",
    "    return density\n",
    "\n",
    "# import pycxsimulator\n",
    "# pycxsimulator.GUI().start(func=[initialize, observe, update])\n",
    "\n"
   ]
  },
  {
   "cell_type": "code",
   "execution_count": 42,
   "metadata": {},
   "outputs": [],
   "source": [
    "T = 100\n",
    "initial_density = np.arange(0, 1, 0.05)\n",
    "final_density = []\n",
    "\n",
    "for initP in initial_density:\n",
    "    initialize(p=initP)\n",
    "    for i in range(T-1):\n",
    "        update()\n",
    "    final_density.append(update())"
   ]
  },
  {
   "cell_type": "code",
   "execution_count": 45,
   "metadata": {},
   "outputs": [
    {
     "data": {
      "image/png": "[encoded data removed]",
      "text/plain": [
       "<matplotlib.figure.Figure at 0x117fdfdd8>"
      ]
     },
     "metadata": {},
     "output_type": "display_data"
    }
   ],
   "source": [
    "final_density = np.asarray(final_density)\n",
    "final_density /= n*n\n",
    "plt.plot(initial_density, final_density)\n",
    "plt.title(\"\")\n",
    "plt.xlabel(\"Initial Density\")\n",
    "plt.ylabel(\"Final Density\")\n",
    "plt.show()"
   ]
  },
  {
   "cell_type": "markdown",
   "metadata": {},
   "source": [
    "We can see in the plot that the high increase in final density occurs at an initial density of about 0.25"
   ]
  }
 ],
 "metadata": {
  "kernelspec": {
   "display_name": "Python 3",
   "language": "python",
   "name": "python3"
  },
  "language_info": {
   "codemirror_mode": {
    "name": "ipython",
    "version": 3
   },
   "file_extension": ".py",
   "mimetype": "text/x-python",
   "name": "python",
   "nbconvert_exporter": "python",
   "pygments_lexer": "ipython3",
   "version": "3.6.4"
  }
 },
 "nbformat": 4,
 "nbformat_minor": 2
}
