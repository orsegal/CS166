{
 "cells": [
  {
   "cell_type": "markdown",
   "metadata": {},
   "source": [
    "# Pre-Class 10.2\n",
    "\n",
    "## Exercise 14\n",
    "Sampling bias for bus waiting times"
   ]
  },
  {
   "cell_type": "code",
   "execution_count": 139,
   "metadata": {},
   "outputs": [],
   "source": [
    "import random\n",
    "import numpy as np\n",
    "import matplotlib.pyplot as plt\n",
    "import scipy.stats as st\n",
    "import scipy\n",
    "\n",
    "plt.style.use('ggplot')"
   ]
  },
  {
   "cell_type": "code",
   "execution_count": 130,
   "metadata": {},
   "outputs": [
    {
     "data": {
      "text/plain": [
       "10.036786003020904"
      ]
     },
     "execution_count": 130,
     "metadata": {},
     "output_type": "execute_result"
    }
   ],
   "source": [
    "# Constant interarrival time - every 10 minutes\n",
    "gamma = 1/10 # Arrives every 10 minutes, or 1/10 per minute\n",
    "n_trials = 10000\n",
    "\n",
    "record_times = []\n",
    "\n",
    "for i in range(n_trials):\n",
    "    passenger_arrival = np.random.uniform()\n",
    "    bus_arrival = st.expon.ppf(passenger_arrival, scale=1/gamma)\n",
    "    record_times.append(bus_arrival)\n",
    "\n",
    "np.mean(record_times)"
   ]
  },
  {
   "cell_type": "code",
   "execution_count": 133,
   "metadata": {},
   "outputs": [
    {
     "data": {
      "text/plain": [
       "54.945220619889184"
      ]
     },
     "execution_count": 133,
     "metadata": {},
     "output_type": "execute_result"
    }
   ],
   "source": [
    "# Changed interarrival time\n",
    "gamma_org = 1/10 # Arrives every 10 minutes, or 1/10 per minute\n",
    "n_trials = 10000\n",
    "\n",
    "record_times = []\n",
    "\n",
    "for i in range(n_trials):\n",
    "    gamma = np.random.uniform(0, 2 * gamma_org)\n",
    "    passenger_arrival = np.random.uniform()\n",
    "    bus_arrival = st.expon.ppf(passenger_arrival, scale=1/gamma)\n",
    "    record_times.append(bus_arrival)\n",
    "\n",
    "np.mean(record_times)"
   ]
  },
  {
   "cell_type": "markdown",
   "metadata": {},
   "source": [
    "## Exercise 24\n",
    "Retirement benefit projection"
   ]
  },
  {
   "cell_type": "code",
   "execution_count": 137,
   "metadata": {},
   "outputs": [],
   "source": [
    "data = {\n",
    "    50: 0.00832,\n",
    "    51: 0.00911,\n",
    "    52: 0.00996,\n",
    "    53: 0.01089,\n",
    "    54: 0.01190,\n",
    "    55: 0.01300,\n",
    "    56: 0.01421,\n",
    "    57: 0.01554,\n",
    "    58: 0.01700,\n",
    "    59: 0.01859,\n",
    "    60: 0.02034,\n",
    "    61: 0.02224,\n",
    "    62: 0.02431,\n",
    "    63: 0.02657,\n",
    "    64: 0.02904,\n",
    "    65: 0.03175,\n",
    "    66: 0.03474,\n",
    "    67: 0.03804,\n",
    "    68: 0.04168,\n",
    "    69: 0.04561,\n",
    "    70: 0.04979,\n",
    "    71: 0.05415,\n",
    "    72: 0.05865,\n",
    "    73: 0.06326,\n",
    "    74: 0.06812,\n",
    "    75: 0.07337,\n",
    "    76: 0.07918,\n",
    "    77: 0.08570,\n",
    "    78: 0.09306,\n",
    "    79: 0.10119,\n",
    "    80: 0.10998,\n",
    "    81: 0.11935,\n",
    "    82: 0.12917,\n",
    "    83: 0.13938,\n",
    "    84: 0.15001,\n",
    "    85: 0.16114,\n",
    "    86: 0.17282,\n",
    "    87: 0.18513,\n",
    "    88: 0.19825,\n",
    "    89: 0.21246,\n",
    "    90: 0.22814,\n",
    "    91: 0.24577,\n",
    "    92: 0.26593,\n",
    "    93: 0.28930,\n",
    "    94: 0.31666,\n",
    "    95: 0.35124,\n",
    "    96: 0.40056,\n",
    "    97: 0.48842,\n",
    "    98: 0.66815,\n",
    "    99: 0.72000,\n",
    "    100: 0.76000,\n",
    "    101: 0.80000,\n",
    "    102: 0.85000,\n",
    "    103: 0.90000,\n",
    "    104: 0.96000,\n",
    "    105: 1.00000}\n",
    "\n",
    "data_list = np.array(list(data.values()))"
   ]
  },
  {
   "cell_type": "code",
   "execution_count": 249,
   "metadata": {},
   "outputs": [
    {
     "data": {
      "text/plain": [
       "(array([ 122.,   77.,  134.,  187.,  339.,  409.,  703.,  950., 4275.,\n",
       "        2804.]),\n",
       " array([ 50. ,  55.5,  61. ,  66.5,  72. ,  77.5,  83. ,  88.5,  94. ,\n",
       "         99.5, 105. ]),\n",
       " <a list of 10 Patch objects>)"
      ]
     },
     "execution_count": 249,
     "metadata": {},
     "output_type": "execute_result"
    },
    {
     "data": {
      "image/png": "[encoded data removed]",
      "text/plain": [
       "<Figure size 432x288 with 1 Axes>"
      ]
     },
     "metadata": {},
     "output_type": "display_data"
    }
   ],
   "source": [
    "# Age of death distribution\n",
    "aaa = []\n",
    "for i in range(10000):\n",
    "    aaa.append(50 + data_list.searchsorted(scipy.random.uniform(0, 1)))\n",
    "\n",
    "plt.hist(aaa)"
   ]
  },
  {
   "cell_type": "code",
   "execution_count": 281,
   "metadata": {},
   "outputs": [],
   "source": [
    "def simulate_retirement(data, data_list):\n",
    "    age = 50\n",
    "    current_invested = 150000\n",
    "    \n",
    "    age_of_death = 50 + data_list.searchsorted(scipy.random.uniform(0, 1))\n",
    "    \n",
    "    for i in range(55):\n",
    "        # more investments\n",
    "        if age < 70:\n",
    "            current_invested += 10000\n",
    "        \n",
    "        # interest\n",
    "        interest_rate = np.random.normal(0.08, 0.09)\n",
    "        current_invested *= (1 + interest_rate)\n",
    "        \n",
    "        # withdrawal\n",
    "        if age >= 70:\n",
    "            current_invested -= 65000\n",
    "        \n",
    "        # is she dead already?\n",
    "        if age == age_of_death:\n",
    "            return current_invested\n",
    "        \n",
    "        age += 1\n",
    "        \n",
    "    return current_invested"
   ]
  },
  {
   "cell_type": "code",
   "execution_count": 284,
   "metadata": {},
   "outputs": [
    {
     "data": {
      "image/png": "[encoded data removed]",
      "text/plain": [
       "<Figure size 432x288 with 1 Axes>"
      ]
     },
     "metadata": {},
     "output_type": "display_data"
    }
   ],
   "source": [
    "n_trials = 1000\n",
    "money_left = []\n",
    "\n",
    "for _ in range(n_trials):\n",
    "    money_left.append(simulate_retirement(data, data_list))\n",
    "\n",
    "plt.hist(money_left)\n",
    "plt.show()"
   ]
  }
 ],
 "metadata": {
  "kernelspec": {
   "display_name": "Python 3",
   "language": "python",
   "name": "python3"
  },
  "language_info": {
   "codemirror_mode": {
    "name": "ipython",
    "version": 3
   },
   "file_extension": ".py",
   "mimetype": "text/x-python",
   "name": "python",
   "nbconvert_exporter": "python",
   "pygments_lexer": "ipython3",
   "version": "3.6.8"
  }
 },
 "nbformat": 4,
 "nbformat_minor": 2
}
