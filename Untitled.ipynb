{
 "cells": [
  {
   "cell_type": "markdown",
   "metadata": {},
   "source": [
    "# Pre-Class 9.1\n",
    "\n",
    "## Question 1 (Sayama - Exercise 18.5)"
   ]
  },
  {
   "cell_type": "code",
   "execution_count": 24,
   "metadata": {},
   "outputs": [],
   "source": [
    "\n",
    "import matplotlib\n",
    "# matplotlib.use('TkAgg')\n",
    "from pylab import *\n",
    "import networkx as nx\n",
    "import random as rd\n",
    "plt.style.use('ggplot')\n",
    "\n",
    "def initialize(n, p_e):\n",
    "    global g\n",
    "#     g = nx.karate_club_graph()\n",
    "    g = nx.erdos_renyi_graph(n, p_e)\n",
    "    g.pos = nx.spring_layout(g)\n",
    "    for i in g.nodes:\n",
    "        g.nodes[i]['state'] = 1 if random() < .5 else 0\n",
    "\n",
    "def observe():\n",
    "    global g\n",
    "    cla()\n",
    "    nx.draw(g, vmin = 0, vmax = 1,\n",
    "            node_color = [g.nodes[i]['state'] for i in g.nodes],\n",
    "            pos = g.pos)\n",
    "\n",
    "# def update():\n",
    "#     global g\n",
    "#     listener = rd.choice(list(g.nodes))\n",
    "#     speaker = rd.choice(list(g.neighbors(listener)))\n",
    "#     g.nodes[listener]['state'] = g.nodes[speaker]['state']\n",
    "\n",
    "def update(p_i, p_r):\n",
    "    global g\n",
    "    for a in g.nodes:\n",
    "#     a = rd.choice(list(g.nodes))\n",
    "        if g.nodes[a]['state'] == 0: # if susceptible\n",
    "            b = rd.choice(list(g.neighbors(a)))\n",
    "            if g.nodes[b]['state'] == 1: # if neighbor b is infected\n",
    "                g.nodes[a]['state'] = 1 if random() < p_i else 0\n",
    "        else: # if infected\n",
    "            g.nodes[a]['state'] = 0 if random() < p_r else 1\n",
    "\n",
    "def calculate_ave_infected():\n",
    "    global g\n",
    "    sum_infected = 0\n",
    "    for a in g.nodes:\n",
    "        sum_infected += g.nodes[a]['state']\n",
    "    return sum_infected/float(len(g))\n",
    "\n",
    "# import pycxsimulator\n",
    "# pycxsimulator.GUI().start(func=[initialize, observe, update])\n",
    "\n"
   ]
  },
  {
   "cell_type": "code",
   "execution_count": 30,
   "metadata": {},
   "outputs": [
    {
     "data": {
      "text/plain": [
       "[<matplotlib.lines.Line2D at 0x116dc8550>]"
      ]
     },
     "execution_count": 30,
     "metadata": {},
     "output_type": "execute_result"
    },
    {
     "data": {
      "image/png": "[encoded data removed]",
      "text/plain": [
       "<Figure size 432x288 with 1 Axes>"
      ]
     },
     "metadata": {},
     "output_type": "display_data"
    }
   ],
   "source": [
    "T = 100\n",
    "\n",
    "n = 100\n",
    "p_e = 0.1\n",
    "p_i = 0.5 # infection probability\n",
    "p_r = 0.5 # recovery probability\n",
    "\n",
    "states = []\n",
    "initialize(n, p_e)\n",
    "for t in range(T):\n",
    "    update(p_i, p_r)\n",
    "    states.append(calculate_ave_infected())\n",
    "\n",
    "plt.plot(range(T), states)\n",
    "# len(states)\n",
    "# print(states[33])\n"
   ]
  },
  {
   "cell_type": "code",
   "execution_count": 27,
   "metadata": {},
   "outputs": [
    {
     "data": {
      "text/plain": [
       "[<matplotlib.lines.Line2D at 0x116cb65f8>]"
      ]
     },
     "execution_count": 27,
     "metadata": {},
     "output_type": "execute_result"
    },
    {
     "data": {
      "image/png": "[encoded data removed]",
      "text/plain": [
       "<Figure size 432x288 with 1 Axes>"
      ]
     },
     "metadata": {},
     "output_type": "display_data"
    }
   ],
   "source": [
    "T = 100\n",
    "\n",
    "n = 100\n",
    "p_e = 0.1\n",
    "p_i = 0.04 # infection probability\n",
    "p_r = 0.5 # recovery probability\n",
    "\n",
    "states = []\n",
    "initialize(n, p_e)\n",
    "for t in range(T):\n",
    "    update(p_i, p_r)\n",
    "    states.append(calculate_ave_infected())\n",
    "\n",
    "plt.plot(range(T), states)\n",
    "# len(states)\n",
    "# print(states[33])\n"
   ]
  },
  {
   "cell_type": "code",
   "execution_count": 40,
   "metadata": {},
   "outputs": [
    {
     "data": {
      "text/plain": [
       "[<matplotlib.lines.Line2D at 0x1520db0da0>]"
      ]
     },
     "execution_count": 40,
     "metadata": {},
     "output_type": "execute_result"
    },
    {
     "data": {
      "image/png": "[encoded data removed]",
      "text/plain": [
       "<Figure size 432x288 with 1 Axes>"
      ]
     },
     "metadata": {},
     "output_type": "display_data"
    }
   ],
   "source": [
    "T = 100\n",
    "\n",
    "n = 200\n",
    "p_e = 0.1\n",
    "p_i = 0.04 # infection probability\n",
    "p_r = 0.5 # recovery probability\n",
    "\n",
    "states = []\n",
    "initialize(n, p_e)\n",
    "for t in range(T):\n",
    "    update(p_i, p_r)\n",
    "    states.append(calculate_ave_infected())\n",
    "\n",
    "plt.plot(range(T), states)\n",
    "# len(states)\n",
    "# print(states[33])\n"
   ]
  },
  {
   "cell_type": "code",
   "execution_count": 41,
   "metadata": {},
   "outputs": [
    {
     "data": {
      "text/plain": [
       "[<matplotlib.lines.Line2D at 0x1520c95828>]"
      ]
     },
     "execution_count": 41,
     "metadata": {},
     "output_type": "execute_result"
    },
    {
     "data": {
      "image/png": "[encoded data removed]",
      "text/plain": [
       "<Figure size 432x288 with 1 Axes>"
      ]
     },
     "metadata": {},
     "output_type": "display_data"
    }
   ],
   "source": [
    "T = 100\n",
    "\n",
    "n = 200\n",
    "p_e = 0.05\n",
    "p_i = 0.04 # infection probability\n",
    "p_r = 0.5 # recovery probability\n",
    "\n",
    "states = []\n",
    "initialize(n, p_e)\n",
    "for t in range(T):\n",
    "    update(p_i, p_r)\n",
    "    states.append(calculate_ave_infected())\n",
    "\n",
    "plt.plot(range(T), states)\n",
    "# len(states)\n",
    "# print(states[33])\n"
   ]
  },
  {
   "cell_type": "markdown",
   "metadata": {},
   "source": [
    "b. *Why does using synchronous or asynchronous updating make a difference?*\n",
    "\n",
    "Because that way we are reducing another random factor from the simiulation - making it more similar to the CA case.\n",
    "\n",
    "c. *For the mean field approximation described in Section 18.5, why is it appropriate to use the synchronous update method and not the asynchronous one?* \n",
    "\n",
    "To make it more similar to CA. \n",
    "\n",
    "\n",
    "## Question 2"
   ]
  },
  {
   "cell_type": "code",
   "execution_count": 64,
   "metadata": {},
   "outputs": [
    {
     "name": "stdout",
     "output_type": "stream",
     "text": [
      "average degree: 40.206\n",
      "average neighbor degree: 41.21635641428636\n"
     ]
    }
   ],
   "source": [
    "g = nx.erdos_renyi_graph(1000, 0.04)\n",
    "\n",
    "ave_degree = 0\n",
    "for i in g.nodes:\n",
    "    ave_degree += g.degree(i)\n",
    "ave_degree /= float(len(g))\n",
    "    \n",
    "print(\"average degree: {i}\".format(i = ave_degree))\n",
    "print(\"average neighbor degree: {i}\".format(i = np.mean(list(nx.average_neighbor_degree(g).values()))))\n",
    "    "
   ]
  },
  {
   "cell_type": "code",
   "execution_count": 73,
   "metadata": {},
   "outputs": [
    {
     "name": "stdout",
     "output_type": "stream",
     "text": [
      "average degree: 40.0\n",
      "average neighbor degree: 40.09596523874297\n"
     ]
    }
   ],
   "source": [
    "g = nx.watts_strogatz_graph(1000, 40, 0.1)\n",
    "\n",
    "ave_degree = 0\n",
    "for i in g.nodes:\n",
    "    ave_degree += g.degree(i)\n",
    "ave_degree /= float(len(g))\n",
    "    \n",
    "print(\"average degree: {i}\".format(i = ave_degree))\n",
    "print(\"average neighbor degree: {i}\".format(i = np.mean(list(nx.average_neighbor_degree(g).values()))))\n",
    "    "
   ]
  },
  {
   "cell_type": "code",
   "execution_count": 77,
   "metadata": {},
   "outputs": [
    {
     "name": "stdout",
     "output_type": "stream",
     "text": [
      "average degree: 39.2\n",
      "average neighbor degree: 62.4726370648272\n"
     ]
    }
   ],
   "source": [
    "g = nx.barabasi_albert_graph(1000, 20)\n",
    "\n",
    "ave_degree = 0\n",
    "for i in g.nodes:\n",
    "    ave_degree += g.degree(i)\n",
    "ave_degree /= float(len(g))\n",
    "    \n",
    "print(\"average degree: {i}\".format(i = ave_degree))\n",
    "print(\"average neighbor degree: {i}\".format(i = np.mean(list(nx.average_neighbor_degree(g).values()))))\n"
   ]
  },
  {
   "cell_type": "markdown",
   "metadata": {},
   "source": [
    "Seems like the behavior is the strongest in the BA graph, and much less in the evenly-distributed graphs."
   ]
  }
 ],
 "metadata": {
  "kernelspec": {
   "display_name": "Python 3",
   "language": "python",
   "name": "python3"
  },
  "language_info": {
   "codemirror_mode": {
    "name": "ipython",
    "version": 3
   },
   "file_extension": ".py",
   "mimetype": "text/x-python",
   "name": "python",
   "nbconvert_exporter": "python",
   "pygments_lexer": "ipython3",
   "version": "3.6.8"
  }
 },
 "nbformat": 4,
 "nbformat_minor": 2
}
