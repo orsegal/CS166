{
 "cells": [
  {
   "cell_type": "markdown",
   "metadata": {},
   "source": [
    "# CS166 - Pre-Class 12.2"
   ]
  },
  {
   "cell_type": "code",
   "execution_count": 13,
   "metadata": {},
   "outputs": [],
   "source": [
    "import scipy\n",
    "from matplotlib import pyplot as plt\n",
    "import time\n",
    "import numpy as np\n",
    "\n",
    "plt.style.use('ggplot')"
   ]
  },
  {
   "cell_type": "code",
   "execution_count": 1,
   "metadata": {},
   "outputs": [],
   "source": [
    "# Basic model\n",
    "\n",
    "\n",
    "class IsingSimulation:\n",
    "\n",
    "    J = 6.34369e-21  # Interaction constant for iron [Joule]\n",
    "    kB = 1.38065e-23  # Boltzmann constant [Joule / Kelvin]\n",
    "\n",
    "    def __init__(self, size, temperature=300):\n",
    "        '''\n",
    "        Create a new Ising model simulation. The state is initialized\n",
    "        randomly.\n",
    "\n",
    "        Arguments:\n",
    "\n",
    "            size (int) The number of cells along each dimension of the\n",
    "              square grid.\n",
    "\n",
    "            temperature (float) The temperature in Kelvin at which to\n",
    "              run the simulation. The Curie temperature for iron is\n",
    "              1043 K. Room temperature is about 300 K. Default: 300.\n",
    "        '''\n",
    "        self.size = size\n",
    "        self.temperature = temperature\n",
    "        self.state = scipy.random.choice(\n",
    "            [-1, +1], size=(self.size, self.size))\n",
    "        self.step = 0\n",
    "\n",
    "    def set_temperature(self, temp):\n",
    "        '''\n",
    "        Set the temperature of the model in Kelvin.\n",
    "        '''\n",
    "        self.temperature = float(temp)\n",
    "\n",
    "    def energy(self):\n",
    "        '''\n",
    "        Compute the energy of the current state of the model.\n",
    "        '''\n",
    "        return -self.J * (self.state * (\n",
    "            scipy.roll(self.state, 1, axis=0) +\n",
    "            scipy.roll(self.state, 1, axis=1))).sum()\n",
    "\n",
    "    def average_magnetism(self):\n",
    "        '''\n",
    "        Compute the average per-cell magnetism of the current state\n",
    "        of the model.\n",
    "        '''\n",
    "        return self.state.mean()\n",
    "\n",
    "    def update(self):\n",
    "        '''\n",
    "        Do a single cell update of the model state.\n",
    "        '''\n",
    "        # Pick a random cell to flip\n",
    "        i, j = scipy.random.randint(self.size, size=2)\n",
    "\n",
    "        # Change in energy from current state to next state\n",
    "        delta_E = 2 * self.J * self.state[i,j] * (\n",
    "            self.state[(i + 1) % self.size, j] +\n",
    "            self.state[(i - 1) % self.size, j] +\n",
    "            self.state[i, (j + 1) % self.size] +\n",
    "            self.state[i, (j - 1) % self.size])\n",
    "\n",
    "        # Log probability of changing state\n",
    "        log_p = -delta_E / (self.temperature * self.kB)\n",
    "        if scipy.log(scipy.random.uniform(0, 1)) < log_p:\n",
    "            self.state[i,j] = -self.state[i,j]\n",
    "\n",
    "        self.step += 1\n",
    "\n",
    "    def display(self):\n",
    "        '''\n",
    "        Plot the state of the model.\n",
    "        '''\n",
    "        plt.figure()\n",
    "        plt.imshow(self.state, vmin=-1, vmax=+1)\n",
    "        plt.title('Step: ' + str(self.step) + ', M = ' + str(self.average_magnetism()))"
   ]
  },
  {
   "cell_type": "code",
   "execution_count": 35,
   "metadata": {},
   "outputs": [
    {
     "data": {
      "image/png": "[encoded data removed]",
      "text/plain": [
       "<Figure size 432x288 with 1 Axes>"
      ]
     },
     "metadata": {},
     "output_type": "display_data"
    }
   ],
   "source": [
    "# Test that the basic model works\n",
    "size = 20\n",
    "sim = IsingSimulation(size, temperature=1043)  # Ising model at the Curie temperature\n",
    "for _ in range(1000):\n",
    "    sim.update()\n",
    "sim.display()\n"
   ]
  },
  {
   "cell_type": "markdown",
   "metadata": {},
   "source": [
    "## Task 1"
   ]
  },
  {
   "cell_type": "code",
   "execution_count": 37,
   "metadata": {},
   "outputs": [
    {
     "data": {
      "image/png": "[encoded data removed]",
      "text/plain": [
       "<Figure size 432x288 with 1 Axes>"
      ]
     },
     "metadata": {},
     "output_type": "display_data"
    }
   ],
   "source": [
    "size = 20\n",
    "sim = IsingSimulation(size, temperature=1)  # Ising model at the Curie temperature\n",
    "for _ in range(100000):\n",
    "    sim.update()\n",
    "sim.display()\n"
   ]
  },
  {
   "cell_type": "code",
   "execution_count": 18,
   "metadata": {},
   "outputs": [
    {
     "name": "stdout",
     "output_type": "stream",
     "text": [
      "Finished 99. Time: 203.51 sec. ETA: -0.02 sec.\n",
      "\n",
      "CPU times: user 3min 18s, sys: 4.41 s, total: 3min 23s\n",
      "Wall time: 3min 23s\n"
     ]
    }
   ],
   "source": [
    "%%time\n",
    "ave_mag = []\n",
    "times = [2]\n",
    "n_trials = 100\n",
    "\n",
    "exp_start_time = time.time()\n",
    "for i in range(n_trials):\n",
    "    trial_start_time = time.time()\n",
    "    size = 20\n",
    "    sim = IsingSimulation(size, temperature=1)  # Ising model at close to 0 Kelvin\n",
    "    for _ in range(100000):\n",
    "        sim.update()\n",
    "    # sim.display()\n",
    "    ave_mag.append(sim.average_magnetism())\n",
    "    print(\"\\rFinished {i}/{n_trials}. Time: {t:.2f} sec. ETA: {ETA:.2f} sec.\".format(i=i+1, \n",
    "                                    n_trials=n_trials, t=time.time()-exp_start_time,\n",
    "                                    ETA=((np.mean(times)*n_trials)-(time.time()-exp_start_time))), end=\"\")\n",
    "    times.append(time.time()-trial_start_time)\n",
    "print(\"\\n\")"
   ]
  },
  {
   "cell_type": "code",
   "execution_count": 23,
   "metadata": {},
   "outputs": [
    {
     "data": {
      "image/png": "[encoded data removed]",
      "text/plain": [
       "<Figure size 432x288 with 1 Axes>"
      ]
     },
     "metadata": {},
     "output_type": "display_data"
    }
   ],
   "source": [
    "plt.hist(ave_mag, bins=30)\n",
    "plt.show()"
   ]
  },
  {
   "cell_type": "markdown",
   "metadata": {},
   "source": [
    "As expected (pretty much) we see most of the density split between -1 and +1.\n",
    "\n",
    "If we would set the temperature to zero we would get into truble. The probability is defined as:\n",
    "$$f(x) = \\frac{e^{-E_x/k_BT}}{Z}$$\n",
    "which means that when $T$ is set to 0, the probability would be 0 (it would actually not be defined, but we'll assume now that it approaches 0). That would make the math messy, so we would prefer to set the temperature as close to zero. It also makes sense in the terms of the physics, as theoretically the absolute zero cannot be reached.\n",
    "\n",
    "## Task 2"
   ]
  },
  {
   "cell_type": "code",
   "execution_count": 38,
   "metadata": {},
   "outputs": [
    {
     "name": "stdout",
     "output_type": "stream",
     "text": [
      "CPU times: user 17.1 s, sys: 160 ms, total: 17.3 s\n",
      "Wall time: 17.2 s\n"
     ]
    },
    {
     "data": {
      "image/png": "[encoded data removed]",
      "text/plain": [
       "<Figure size 432x288 with 1 Axes>"
      ]
     },
     "metadata": {},
     "output_type": "display_data"
    }
   ],
   "source": [
    "%%time\n",
    "size = 20\n",
    "initial_temp = 2000\n",
    "reduce_temp_every = 400\n",
    "\n",
    "sim = IsingSimulation(size, temperature=initial_temp)  # Ising model at close to 0 Kelvin\n",
    "for t in range(reduce_temp_every*initial_temp + 100000):\n",
    "    sim.update()\n",
    "    if (t % reduce_temp_every == 0) and (sim.temperature > 1):\n",
    "        sim.temperature -= 1\n",
    "sim.display()"
   ]
  },
  {
   "cell_type": "code",
   "execution_count": 40,
   "metadata": {},
   "outputs": [
    {
     "name": "stdout",
     "output_type": "stream",
     "text": [
      "Finished 50/50. Time: 873.84 sec. ETA: 0.42 sec.\n",
      "\n",
      "CPU times: user 14min 23s, sys: 9.39 s, total: 14min 33s\n",
      "Wall time: 14min 33s\n"
     ]
    }
   ],
   "source": [
    "%%time\n",
    "ave_mag = []\n",
    "times = [20]\n",
    "n_trials = 50\n",
    "\n",
    "initial_temp = 2000\n",
    "reduce_temp_every = 400\n",
    "\n",
    "exp_start_time = time.time()\n",
    "for i in range(n_trials):\n",
    "    trial_start_time = time.time()\n",
    "    size = 20\n",
    "    sim = IsingSimulation(size, temperature=initial_temp) \n",
    "    for t in range(reduce_temp_every*initial_temp + 100000):\n",
    "        sim.update()\n",
    "        if (t % reduce_temp_every == 0) and (sim.temperature > 1):\n",
    "            sim.temperature -= 1\n",
    "    ave_mag.append(sim.average_magnetism())\n",
    "    print(\"\\rFinished {i}/{n_trials}. Time: {t:.2f} sec. ETA: {ETA:.2f} sec.\".format(i=i+1, \n",
    "                                    n_trials=n_trials, t=time.time()-exp_start_time,\n",
    "                                    ETA=((np.mean(times)*n_trials)-(time.time()-exp_start_time))), end=\"\")\n",
    "    times.append(time.time()-trial_start_time)\n",
    "print(\"\\n\")"
   ]
  },
  {
   "cell_type": "code",
   "execution_count": 41,
   "metadata": {},
   "outputs": [
    {
     "data": {
      "image/png": "[encoded data removed]",
      "text/plain": [
       "<Figure size 432x288 with 1 Axes>"
      ]
     },
     "metadata": {},
     "output_type": "display_data"
    }
   ],
   "source": [
    "plt.hist(ave_mag, bins=30)\n",
    "plt.show()"
   ]
  }
 ],
 "metadata": {
  "kernelspec": {
   "display_name": "Python 3",
   "language": "python",
   "name": "python3"
  },
  "language_info": {
   "codemirror_mode": {
    "name": "ipython",
    "version": 3
   },
   "file_extension": ".py",
   "mimetype": "text/x-python",
   "name": "python",
   "nbconvert_exporter": "python",
   "pygments_lexer": "ipython3",
   "version": "3.6.8"
  }
 },
 "nbformat": 4,
 "nbformat_minor": 2
}
