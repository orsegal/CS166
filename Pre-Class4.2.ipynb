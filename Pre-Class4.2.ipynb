{
 "cells": [
  {
   "cell_type": "markdown",
   "metadata": {
    "colab_type": "text",
    "id": "03tdF-NjZ1j_"
   },
   "source": [
    "# Pre-Class 4.1"
   ]
  },
  {
   "cell_type": "code",
   "execution_count": 36,
   "metadata": {
    "colab": {},
    "colab_type": "code",
    "id": "bJVG4gB6Z1kE"
   },
   "outputs": [],
   "source": [
    "import matplotlib\n",
    "import pylab\n",
    "import random\n",
    "import numpy as np\n",
    "import matplotlib.pyplot as plt\n",
    "plt.style.use('ggplot')"
   ]
  },
  {
   "cell_type": "code",
   "execution_count": 16,
   "metadata": {
    "colab": {},
    "colab_type": "code",
    "id": "oXh5m-HtZ1kK"
   },
   "outputs": [],
   "source": [
    "class TrafficSimulator(object):\n",
    "    \n",
    "    def __init__(self, length=50, density=0.2, vMax=5, slowProb=0.5):\n",
    "        '''\n",
    "        Initialize new TrafficSimulator objects with the default parameter\n",
    "        settings. \n",
    "\n",
    "        Inputs:\n",
    "\n",
    "         * length (int): The number of cells in the cellular automaton.\n",
    "           Default: 50.\n",
    "\n",
    "         * density (float): The proportion of cells that will be active (contain\n",
    "           a car) when the cellular automaton is initialized. The active cells\n",
    "           will be at random locations along the length of the CA. Default: 0.2.\n",
    "           \n",
    "        * vMax (int): The maximum velocity of the cars. Default: 5.\n",
    "        \n",
    "        * slowProb (float): The probability of a car to randomly slow down. \n",
    "          Default: 0.5.\n",
    "        \n",
    "\n",
    "        '''\n",
    "        self.length = length\n",
    "        self.density = density\n",
    "        self.vMax = vMax\n",
    "        self.slowProb = slowProb\n",
    "        self.flowPerStep = []\n",
    "\n",
    "        # Arrays for storing the current state and the next state (when we are\n",
    "        # busy doing a state update).\n",
    "        self.current_state = np.ones(self.length) * -1\n",
    "        self.next_state = np.ones(self.length) * -1\n",
    "\n",
    "    def initialize(self, initSpeed_zero=True):\n",
    "        '''\n",
    "        Initialize the state - set up cars in place and give an initial speed. \n",
    "        \n",
    "        * initSpeed_zero (bolean): if True, set all initial velocities to zero. \n",
    "          If False, set the veloities to the maximum possible.\n",
    "        \n",
    "        '''\n",
    "        # Set up a random initial state where the fraction of 0s in the array\n",
    "        # equals the density parameter.\n",
    "        random_indices = np.random.choice(\n",
    "            range(self.length),\n",
    "            size=int(round(self.density * self.length)),\n",
    "            replace=False)\n",
    "        self.current_state.fill(-1)\n",
    "        self.current_state[random_indices] = 0\n",
    "        \n",
    "        if not initSpeed_zero:\n",
    "            # Set the velocities to the max possible (i.e, distant - 1 or max velocity)\n",
    "            for i in range(self.length):\n",
    "                if self.current_state[i] != -1:\n",
    "                    for j in range(1, self.vMax+1):\n",
    "                        if self.current_state[(i+j)%self.length] != -1:\n",
    "                            dist = j\n",
    "                            break\n",
    "                        dist = self.vMax+1\n",
    "                    self.current_state[i] = dist-1\n",
    "\n",
    "        self.time = 0\n",
    "        \n",
    "    def draw(self):\n",
    "        '''\n",
    "        Draw the current state of the cellular automaton.\n",
    "        '''\n",
    "        print(''.join('.' if x == -1 else str(int(x)) for x in self.current_state))\n",
    "\n",
    "    def update_velocities(self):\n",
    "        '''\n",
    "        Update all velocities according to rules 1-3.\n",
    "        '''\n",
    "        for i in range(self.length):\n",
    "            if self.current_state[i] != -1:\n",
    "                # Calculate the distance to next car (if distance is long, set as vMax+1)\n",
    "                for j in range(1, self.vMax+1):\n",
    "                    if self.current_state[(i+j)%self.length] != -1:\n",
    "                        dist = j\n",
    "                        break\n",
    "                    dist = self.vMax+1\n",
    "                # Rule 1: acceleration\n",
    "                if (self.current_state[i] < self.vMax) and (dist > self.current_state[i]+1):\n",
    "                    self.current_state[i] += 1\n",
    "                # Rule 2: slowing down\n",
    "                if self.current_state[i] >= dist:\n",
    "                    self.current_state[i] = dist-1\n",
    "                # Rule 3: randomization\n",
    "                if self.current_state[i] != 0:\n",
    "                    if random.random() < self.slowProb:\n",
    "                        self.current_state[i] -= 1\n",
    "        \n",
    "    def step(self):\n",
    "        '''\n",
    "        Update the positions based on updated velocities according to rule 4.\n",
    "        '''\n",
    "        # Update the new positions (rule 4)\n",
    "        current_flow = 0\n",
    "        self.next_state = np.ones(self.length) * -1\n",
    "        for i in range(self.length):\n",
    "            if self.current_state[i] != -1:\n",
    "                self.next_state[int((i + self.current_state[i])%self.length)] = self.current_state[i]\n",
    "                if i + self.current_state[i] >= self.length:\n",
    "                    current_flow += 1\n",
    "        \n",
    "        # Swap next state and current state\n",
    "        self.current_state, self.next_state = self.next_state, self.current_state\n",
    "        self.time += 1\n",
    "        self.flowPerStep.append(current_flow)\n",
    "\n"
   ]
  },
  {
   "cell_type": "markdown",
   "metadata": {
    "colab_type": "text",
    "id": "7yV0aQDBZ1kR"
   },
   "source": [
    "## Nagel & Schreckenberg - figure 1"
   ]
  },
  {
   "cell_type": "code",
   "execution_count": 8,
   "metadata": {
    "colab": {},
    "colab_type": "code",
    "id": "-bhEQFnWZ1kS",
    "outputId": "8741cdc1-b664-4c23-9f7c-a4c58c2ce3b5"
   },
   "outputs": [
    {
     "name": "stdout",
     "output_type": "stream",
     "text": [
      "................0.......0..........................................................1................\n",
      "................0.......0...........................................................2...............\n",
      "................1.......1.............................................................3.............\n",
      ".................2.......2...............................................................4..........\n",
      "...................3.......3.................................................................5......\n",
      "......................3.......3...................................................................5.\n",
      "...5.....................3.......4..................................................................\n",
      "........5...................4........5..............................................................\n",
      ".............5..................4.........5.........................................................\n",
      "..................4.................5..........4....................................................\n",
      "......................5..................4.........4................................................\n",
      "...........................4.................4.........4............................................\n",
      "...............................5.................5.........4........................................\n",
      "....................................4.................5........4....................................\n",
      "........................................5..................5.......4................................\n",
      ".............................................4..................5......4............................\n",
      ".................................................4...................4.....5........................\n",
      ".....................................................4...................4......5...................\n",
      ".........................................................5...................4.......5..............\n",
      "..............................................................4..................5........4.........\n"
     ]
    }
   ],
   "source": [
    "sim = TrafficSimulator(length=100, density=0.03, vMax=5, slowProb=0.5)\n",
    "sim.initialize()\n",
    "sim.current_state\n",
    "# sim.draw()\n",
    "for i in range(20):\n",
    "    sim.update_velocities()\n",
    "    sim.draw()\n",
    "    sim.step()"
   ]
  },
  {
   "cell_type": "code",
   "execution_count": 9,
   "metadata": {},
   "outputs": [
    {
     "name": "stdout",
     "output_type": "stream",
     "text": [
      "[0, 0, 0, 0, 0, 1, 0, 0, 0, 0, 0, 0, 0, 0, 0, 0, 0, 0, 0, 0]\n"
     ]
    }
   ],
   "source": [
    "print(sim.flowPerStep)"
   ]
  },
  {
   "cell_type": "markdown",
   "metadata": {
    "colab_type": "text",
    "id": "EIink_NiZ1kf"
   },
   "source": [
    "## Nagel & Schreckenberg - figure 2"
   ]
  },
  {
   "cell_type": "code",
   "execution_count": 19,
   "metadata": {
    "colab": {},
    "colab_type": "code",
    "id": "tpQ5FyZbZ1kg",
    "outputId": "ea2c2430-313a-4580-a409-5e7c1e9556b8"
   },
   "outputs": [
    {
     "name": "stdout",
     "output_type": "stream",
     "text": [
      "..................01.1...0..........1.....0.....1...0...................1.......0...................\n",
      "..................1.1.1..0...........1....1......2..1....................1......0...................\n",
      "...................0.0.1.1............2....1.......0.1....................1.....0...................\n",
      "...................0.1..1.2.............2...1......1..1....................2....1...................\n",
      "...................1..2..2..3.............1..2......2..2.....................3...2..................\n",
      "....................2...1..3...3...........2...2......2..3......................2..3................\n",
      "......................1..2....3...3..........2...3......2...3.....................2...3.............\n",
      ".......................1...2.....3...4.........3....4.....2....3....................2....4..........\n",
      "........................1....2......4....5........3.....3...2.....4...................2......5......\n",
      ".........................2.....2........4.....4......3.....1..2.......5.................3.........5.\n",
      "...5.......................3.....2..........5.....5.....2...2...3..........5...............4........\n",
      "........4.....................4....3.............5.....1..2...2....3............4..............5....\n",
      "5...........5.....................3...3...............1.1...2...2.....3.............4...............\n",
      ".....4...........4...................3...4.............1.2....2...3......4..............5...........\n",
      ".........4...........5..................3....4..........1..2....2....3.......4...............4......\n",
      ".............4............4................3.....4.......1...2....3.....4........4...............5..\n",
      "..4..............4............5...............3......4....1....3.....4......4........5..............\n",
      "......5..............5.............4.............4.......1.1......3......5......4.........4.........\n",
      "...........4..............4............5.............3....0.1........4........5.....4.........5.....\n",
      "...............5..............5.............5...........0.0..1...........4.........4....5..........4\n",
      "...5................4..............5.............4......0.0...2..............4.........5.....5......\n",
      "........5...............4...............4............2..0.0.....2................5..........4.....5.\n",
      "...4.........4..............4...............4..........01.1.......3...................4.........5...\n",
      ".4.....4.........4..............4...............5......1.1.2.........4....................4.........\n",
      ".....5.....5.........5..............5................1..1.1..3...........4....................5.....\n",
      "..........4.....4.........5..............5............1..0.2....4............5.....................4\n",
      "...4..........5.....5..........4..............5........0.1...2......5.............5.................\n",
      ".......4...........5.....5.........4...............2...0..2....3.........4.............4............\n",
      "...........4............5.....5........5.............0.0....2.....4..........5.............5........\n",
      "...............4.............4.....4........5........0.0......3.......4...........5.............4...\n"
     ]
    }
   ],
   "source": [
    "sim = TrafficSimulator(length=100, density=0.1, vMax=5, slowProb=0.5)\n",
    "sim.initialize()\n",
    "sim.current_state\n",
    "# sim.draw()\n",
    "for i in range(30):\n",
    "    sim.update_velocities()\n",
    "    sim.draw()\n",
    "    sim.step()"
   ]
  },
  {
   "cell_type": "code",
   "execution_count": 20,
   "metadata": {},
   "outputs": [
    {
     "name": "stdout",
     "output_type": "stream",
     "text": [
      "[0, 0, 0, 0, 0, 0, 0, 0, 0, 1, 0, 1, 0, 0, 0, 1, 0, 0, 0, 1, 0, 1, 1, 0, 0, 1, 0, 0, 0, 1]\n"
     ]
    }
   ],
   "source": [
    "print(sim.flowPerStep)"
   ]
  },
  {
   "cell_type": "code",
   "execution_count": 5,
   "metadata": {
    "colab": {
     "base_uri": "https://localhost:8080/",
     "height": 51
    },
    "colab_type": "code",
    "executionInfo": {
     "elapsed": 873788,
     "status": "ok",
     "timestamp": 1549299769035,
     "user": {
      "displayName": "Or Segal",
      "photoUrl": "https://lh6.googleusercontent.com/-_TqMGXyNdbY/AAAAAAAAAAI/AAAAAAAAAFk/qSuI4v7usPM/s64/photo.jpg",
      "userId": "15572350452445900550"
     },
     "user_tz": -120
    },
    "id": "ZHedJYgeZ1kz",
    "outputId": "c01872fa-33d4-484b-e64f-9e8f8f43bdf0"
   },
   "outputs": [
    {
     "name": "stdout",
     "output_type": "stream",
     "text": [
      "CPU times: user 14min 32s, sys: 267 ms, total: 14min 32s\n",
      "Wall time: 14min 33s\n"
     ]
    }
   ],
   "source": [
    "%%time\n",
    "sim = TrafficSimulator(length=10**6, density=0.03, vMax=5, slowProb=0.5)\n",
    "sim.initialize()\n",
    "sim.current_state\n",
    "# sim.draw()\n",
    "for i in range(1000):\n",
    "    sim.update_velocities()\n",
    "#     sim.draw()\n",
    "    sim.step()"
   ]
  },
  {
   "cell_type": "markdown",
   "metadata": {},
   "source": [
    "## Nagel & Schreckenberg - figure 4"
   ]
  },
  {
   "cell_type": "code",
   "execution_count": 42,
   "metadata": {},
   "outputs": [
    {
     "name": "stdout",
     "output_type": "stream",
     "text": [
      "Density: 0.0; Flow: 0.0\n",
      "Density: 0.02; Flow: 0.086\n",
      "Density: 0.04; Flow: 0.178\n",
      "Density: 0.06; Flow: 0.271\n",
      "Density: 0.08; Flow: 0.319\n",
      "Density: 0.1; Flow: 0.323\n",
      "Density: 0.12; Flow: 0.302\n",
      "Density: 0.14; Flow: 0.32799999999999996\n",
      "Density: 0.16; Flow: 0.30300000000000005\n",
      "Density: 0.18; Flow: 0.31\n",
      "Density: 0.2; Flow: 0.284\n",
      "Density: 0.22; Flow: 0.288\n",
      "Density: 0.24; Flow: 0.27599999999999997\n",
      "Density: 0.26; Flow: 0.28200000000000003\n",
      "Density: 0.28; Flow: 0.29100000000000004\n",
      "Density: 0.3; Flow: 0.26999999999999996\n",
      "Density: 0.32; Flow: 0.251\n",
      "Density: 0.34; Flow: 0.24300000000000002\n",
      "Density: 0.36; Flow: 0.259\n",
      "Density: 0.38; Flow: 0.257\n",
      "Density: 0.4; Flow: 0.251\n",
      "Density: 0.42; Flow: 0.211\n",
      "Density: 0.44; Flow: 0.22000000000000003\n",
      "Density: 0.46; Flow: 0.199\n",
      "Density: 0.48; Flow: 0.217\n",
      "Density: 0.5; Flow: 0.197\n",
      "Density: 0.52; Flow: 0.20900000000000002\n",
      "Density: 0.54; Flow: 0.172\n",
      "Density: 0.56; Flow: 0.185\n",
      "Density: 0.58; Flow: 0.164\n",
      "Density: 0.6; Flow: 0.164\n",
      "Density: 0.62; Flow: 0.17099999999999999\n",
      "Density: 0.64; Flow: 0.14\n",
      "Density: 0.66; Flow: 0.134\n",
      "Density: 0.68; Flow: 0.14200000000000002\n",
      "Density: 0.7000000000000001; Flow: 0.125\n",
      "Density: 0.72; Flow: 0.10899999999999999\n",
      "Density: 0.74; Flow: 0.11599999999999999\n",
      "Density: 0.76; Flow: 0.10600000000000001\n",
      "Density: 0.78; Flow: 0.10600000000000001\n",
      "CPU times: user 2min 42s, sys: 1.17 s, total: 2min 44s\n",
      "Wall time: 2min 44s\n"
     ]
    }
   ],
   "source": [
    "%%time\n",
    "initial_density = np.arange(0, 0.8, 0.02)\n",
    "flows = []\n",
    "run_time = 400\n",
    "Ntrials = 5\n",
    "\n",
    "for dens in initial_density:\n",
    "    flowsTemp = []\n",
    "    for i in range(Ntrials):\n",
    "        sim = TrafficSimulator(length=1000, density=dens, vMax=5, slowProb=0.5)\n",
    "        sim.initialize()\n",
    "        for i in range(run_time):\n",
    "            sim.update_velocities()\n",
    "            sim.step()\n",
    "        flowsTemp.append(np.mean(sim.flowPerStep[run_time//2:]))\n",
    "    flows.append(np.mean(flowsTemp))\n",
    "    print(\"Density: {d}; Flow: {f}\".format(d=dens, f=flows[-1]))"
   ]
  },
  {
   "cell_type": "code",
   "execution_count": 44,
   "metadata": {},
   "outputs": [
    {
     "data": {
      "image/png": "[encoded data removed]",
      "text/plain": [
       "<matplotlib.figure.Figure at 0x11394fc18>"
      ]
     },
     "metadata": {},
     "output_type": "display_data"
    }
   ],
   "source": [
    "plt.plot(initial_density, flows)\n",
    "plt.title(\"Traffic flow Vs. Density\")\n",
    "plt.xlabel(\"Density\")\n",
    "plt.ylabel(\"Traffic Flow\")\n",
    "# plt.legend()\n",
    "plt.show()"
   ]
  }
 ],
 "metadata": {
  "accelerator": "GPU",
  "colab": {
   "name": "Pre-Class4.1.ipynb",
   "provenance": [],
   "version": "0.3.2"
  },
  "kernelspec": {
   "display_name": "Python 3",
   "language": "python",
   "name": "python3"
  },
  "language_info": {
   "codemirror_mode": {
    "name": "ipython",
    "version": 3
   },
   "file_extension": ".py",
   "mimetype": "text/x-python",
   "name": "python",
   "nbconvert_exporter": "python",
   "pygments_lexer": "ipython3",
   "version": "3.6.4"
  }
 },
 "nbformat": 4,
 "nbformat_minor": 2
}
