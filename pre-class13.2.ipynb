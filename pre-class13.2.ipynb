{
 "cells": [
  {
   "cell_type": "markdown",
   "metadata": {},
   "source": [
    "# Session 13.2 - Pre-Class\n",
    "\n",
    "My strategy was betting 0.2 of my current amount on heads. For a part of the time, 3 tosses, I failed myself and moved to tails (😖).  I ended up with 79$. The screenshot is linked:\n",
    "https://drive.google.com/file/d/1zuwvfUZHJIx1HO4IwQqAMM9IDEyZXfsm/view?usp=sharing"
   ]
  },
  {
   "cell_type": "code",
   "execution_count": 1,
   "metadata": {},
   "outputs": [],
   "source": [
    "import numpy as np\n",
    "import matplotlib.pyplot as plt\n",
    "\n",
    "plt.style.use('ggplot')\n",
    "# plt.xkcd()"
   ]
  },
  {
   "cell_type": "code",
   "execution_count": 64,
   "metadata": {},
   "outputs": [
    {
     "name": "stdout",
     "output_type": "stream",
     "text": [
      "1000000\n",
      "CPU times: user 17.5 s, sys: 159 ms, total: 17.7 s\n",
      "Wall time: 18.3 s\n"
     ]
    }
   ],
   "source": [
    "%%time\n",
    "def biased_coin_flip(heads, p_heads=0.6):\n",
    "    coin = np.random.uniform() < p_heads\n",
    "    return not (coin ^ heads) # Opposite to xor\n",
    "\n",
    "def betting_game(amount=250, n_flips=20):\n",
    "    # Strategy: always bet 0.2 of the amount on heads\n",
    "    for i in range(n_flips):\n",
    "        if biased_coin_flip(heads=True):\n",
    "            amount *= 1.2\n",
    "        else:\n",
    "            amount *= 0.8\n",
    "    return amount\n",
    "\n",
    "final_amounts = []\n",
    "for i in range(1000000):\n",
    "    final_amounts.append(betting_game())\n",
    "print(len(final_amounts))"
   ]
  },
  {
   "cell_type": "code",
   "execution_count": 68,
   "metadata": {},
   "outputs": [
    {
     "name": "stdout",
     "output_type": "stream",
     "text": [
      "mean=547.5133460715115\n",
      "95% confidence interval=(73.87029288794456,1893.2148110851722)\n"
     ]
    },
    {
     "data": {
      "image/png": "[encoded data removed]",
      "text/plain": [
       "<Figure size 432x288 with 1 Axes>"
      ]
     },
     "metadata": {},
     "output_type": "display_data"
    }
   ],
   "source": [
    "print(\"mean={}\".format(np.mean(final_amounts)))\n",
    "print(\"95% confidence interval=({},{})\".format(np.percentile(final_amounts, 2.5), np.percentile(final_amounts, 97.5)))\n",
    "\n",
    "plt.hist(final_amounts, bins=50)\n",
    "plt.show()"
   ]
  }
 ],
 "metadata": {
  "kernelspec": {
   "display_name": "Python 3",
   "language": "python",
   "name": "python3"
  },
  "language_info": {
   "codemirror_mode": {
    "name": "ipython",
    "version": 3
   },
   "file_extension": ".py",
   "mimetype": "text/x-python",
   "name": "python",
   "nbconvert_exporter": "python",
   "pygments_lexer": "ipython3",
   "version": "3.6.8"
  }
 },
 "nbformat": 4,
 "nbformat_minor": 2
}
